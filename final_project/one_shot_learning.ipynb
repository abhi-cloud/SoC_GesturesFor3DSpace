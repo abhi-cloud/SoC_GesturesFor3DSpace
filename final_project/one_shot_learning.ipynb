{
  "nbformat": 4,
  "nbformat_minor": 0,
  "metadata": {
    "colab": {
      "name": "one-shot-learning.ipynb",
      "provenance": [],
      "collapsed_sections": []
    },
    "kernelspec": {
      "name": "python3",
      "display_name": "Python 3"
    },
    "accelerator": "GPU"
  },
  "cells": [
    {
      "cell_type": "markdown",
      "metadata": {
        "id": "IO6G8htdO-ca",
        "colab_type": "text"
      },
      "source": [
        "# Uploading files from local PC\n",
        "Files to upload:\n",
        "\n",
        "1.  FaceNet weights\n",
        "2.  train_final.pickle\n",
        "3.  test_final.zip\n",
        "4.  fr_utils\n",
        "5.  inception_blocks_v2 \n",
        "\n"
      ]
    },
    {
      "cell_type": "code",
      "metadata": {
        "id": "_KHg_-g_NiRW",
        "colab_type": "code",
        "outputId": "98f6f758-0f86-4749-c714-73b651e60303",
        "colab": {
          "resources": {
            "http://localhost:8080/nbextensions/google.colab/files.js": {
              "data": "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",
              "ok": true,
              "headers": [
                [
                  "content-type",
                  "application/javascript"
                ]
              ],
              "status": 200,
              "status_text": ""
            }
          },
          "base_uri": "https://localhost:8080/",
          "height": 124
        }
      },
      "source": [
        "from google.colab import files\n",
        "\n",
        "uploaded = files.upload()"
      ],
      "execution_count": 2,
      "outputs": [
        {
          "output_type": "display_data",
          "data": {
            "text/html": [
              "\n",
              "     <input type=\"file\" id=\"files-aa72613b-5715-47f9-9bfb-e7ba01ab948b\" name=\"files[]\" multiple disabled />\n",
              "     <output id=\"result-aa72613b-5715-47f9-9bfb-e7ba01ab948b\">\n",
              "      Upload widget is only available when the cell has been executed in the\n",
              "      current browser session. Please rerun this cell to enable.\n",
              "      </output>\n",
              "      <script src=\"/nbextensions/google.colab/files.js\"></script> "
            ],
            "text/plain": [
              "<IPython.core.display.HTML object>"
            ]
          },
          "metadata": {
            "tags": []
          }
        },
        {
          "output_type": "stream",
          "text": [
            "Saving train_final.pickle to train_final.pickle\n",
            "Saving test_final.zip to test_final.zip\n",
            "Saving inception_blocks_v2.py to inception_blocks_v2.py\n",
            "Saving fr_utils.py to fr_utils.py\n"
          ],
          "name": "stdout"
        }
      ]
    },
    {
      "cell_type": "code",
      "metadata": {
        "id": "eeEQdkBuOjks",
        "colab_type": "code",
        "colab": {}
      },
      "source": [
        "!unzip -q test_final.zip\n",
        "# !unzip -q weights.zip"
      ],
      "execution_count": 0,
      "outputs": []
    },
    {
      "cell_type": "markdown",
      "metadata": {
        "id": "5Bl2T5kLQibe",
        "colab_type": "text"
      },
      "source": [
        "# Importing dependencies"
      ]
    },
    {
      "cell_type": "code",
      "metadata": {
        "id": "6V01ox71Ph7B",
        "colab_type": "code",
        "colab": {
          "base_uri": "https://localhost:8080/",
          "height": 33
        },
        "outputId": "8be63ac7-7349-484b-95ff-5560806b39e3"
      },
      "source": [
        "import numpy as np\n",
        "import cv2\n",
        "import pickle\n",
        "import os\n",
        "import matplotlib.pyplot as plt\n",
        "import argparse\n",
        "import random\n",
        "from itertools import permutations\n",
        "import os\n",
        "from numpy import genfromtxt\n",
        "import pandas as pd\n",
        "from fr_utils import *\n",
        "from inception_blocks_v2 import *"
      ],
      "execution_count": 1,
      "outputs": [
        {
          "output_type": "stream",
          "text": [
            "Using TensorFlow backend.\n"
          ],
          "name": "stderr"
        }
      ]
    },
    {
      "cell_type": "code",
      "metadata": {
        "id": "ae_l_Qi-SWi4",
        "colab_type": "code",
        "colab": {}
      },
      "source": [
        "from keras.models import Sequential\n",
        "from keras.layers import Conv2D, ZeroPadding2D, Activation, Input, concatenate\n",
        "from keras.models import Model\n",
        "from keras.layers.normalization import BatchNormalization\n",
        "from keras.layers.pooling import MaxPooling2D, AveragePooling2D\n",
        "from keras.layers.merge import Concatenate\n",
        "from keras.layers.core import Lambda, Flatten, Dense\n",
        "from keras.initializers import glorot_uniform\n",
        "from keras.engine.topology import Layer\n",
        "from keras import backend as K\n",
        "from keras.callbacks import ModelCheckpoint\n",
        "from keras.optimizers import Adam\n",
        "\n",
        "K.set_image_data_format('channels_first')"
      ],
      "execution_count": 0,
      "outputs": []
    },
    {
      "cell_type": "code",
      "metadata": {
        "id": "FS6NJr9qjbjW",
        "colab_type": "code",
        "outputId": "895bcfa3-0b3a-43d1-8670-0266035c6b39",
        "colab": {
          "base_uri": "https://localhost:8080/",
          "height": 50
        }
      },
      "source": [
        "## For making some older version syntax in tf work ##\n",
        "\n",
        "import keras.backend.tensorflow_backend as tfback\n",
        "import tensorflow as tf\n",
        "\n",
        "print(\"tf.__version__ is\", tf.__version__)\n",
        "print(\"tf.keras.__version__ is:\", tf.keras.__version__)\n",
        "\n",
        "def _get_available_gpus():\n",
        "    \"\"\"Get a list of available gpu devices (formatted as strings).\n",
        "\n",
        "    # Returns\n",
        "        A list of available GPU devices.\n",
        "    \"\"\"\n",
        "    #global _LOCAL_DEVICES\n",
        "    if tfback._LOCAL_DEVICES is None:\n",
        "        devices = tf.config.list_logical_devices()\n",
        "        tfback._LOCAL_DEVICES = [x.name for x in devices]\n",
        "    return [x for x in tfback._LOCAL_DEVICES if 'device:gpu' in x.lower()]\n",
        "\n",
        "tfback._get_available_gpus = _get_available_gpus"
      ],
      "execution_count": 3,
      "outputs": [
        {
          "output_type": "stream",
          "text": [
            "tf.__version__ is 2.2.0\n",
            "tf.keras.__version__ is: 2.3.0-tf\n"
          ],
          "name": "stdout"
        }
      ]
    },
    {
      "cell_type": "code",
      "metadata": {
        "id": "LhE4ilF6Pr2C",
        "colab_type": "code",
        "colab": {}
      },
      "source": [
        "## Loading pickled data that contains the train images stacked as per classes##\n",
        "\n",
        "with open('train_final.pickle', 'rb') as f:\n",
        "    data, _ = pickle.load(f)"
      ],
      "execution_count": 0,
      "outputs": []
    },
    {
      "cell_type": "code",
      "metadata": {
        "id": "nJwGKSGn-QFn",
        "colab_type": "code",
        "outputId": "3945095f-96fb-4918-d21a-f0afa28106f5",
        "colab": {
          "base_uri": "https://localhost:8080/",
          "height": 33
        }
      },
      "source": [
        "data.shape"
      ],
      "execution_count": 5,
      "outputs": [
        {
          "output_type": "execute_result",
          "data": {
            "text/plain": [
              "(24, 30, 3, 96, 96)"
            ]
          },
          "metadata": {
            "tags": []
          },
          "execution_count": 5
        }
      ]
    },
    {
      "cell_type": "markdown",
      "metadata": {
        "id": "LilSAfnr2jyX",
        "colab_type": "text"
      },
      "source": [
        "# Triplet generator\n",
        "The following function will generate triplet of images from the unpicked stack on which Siamese Network will train on. Triplets will have an **Anchor**, a **positive** and a **negative** image. "
      ]
    },
    {
      "cell_type": "code",
      "metadata": {
        "id": "DeZLwN3QPKuv",
        "colab_type": "code",
        "colab": {}
      },
      "source": [
        "def generate_triplet(x, ap_pairs = 10, an_pairs = 10, test_size = 0.3):\n",
        "    \n",
        "    test_triplets = []\n",
        "    train_triplets = []\n",
        "\n",
        "    for cls in range(x.shape[0]):\n",
        "        positive_pairs = random.sample(list(permutations(range(x.shape[1]), 2)), k=ap_pairs)\n",
        "        \n",
        "        l = []\n",
        "        for i in range(0, x.shape[0]*x.shape[1]):\n",
        "            if i not in range(cls*x.shape[1], (cls+1)*x.shape[1]):\n",
        "                l.append(i)\n",
        "        \n",
        "        abs_index = np.random.choice(l, size=(an_pairs,), replace=False)\n",
        "        n_classes = np.array([[i//x.shape[1], i%x.shape[1]] for i in abs_index])\n",
        "        # the triplets\n",
        "\n",
        "        p_len = len(positive_pairs)\n",
        "\n",
        "        for pair in positive_pairs[:int((1-test_size)*p_len)]:\n",
        "            anchor = x[cls, pair[0],]\n",
        "            positive = x[cls, pair[1],]\n",
        "            \n",
        "            for n in range(an_pairs):\n",
        "                negative = x[n_classes[n][0], n_classes[n][1]]\n",
        "                train_triplets.append([anchor, positive, negative])\n",
        "        \n",
        "        for pair in positive_pairs[int((1-test_size)*p_len):]:\n",
        "            anchor = x[cls, pair[0],]\n",
        "            positive = x[cls, pair[1],]\n",
        "            \n",
        "            for n in range(an_pairs):\n",
        "                negative = x[n_classes[n][0], n_classes[n][1]]\n",
        "                test_triplets.append([anchor, positive, negative])\n",
        "                \n",
        "    return np.array(train_triplets), np.array(test_triplets) "
      ],
      "execution_count": 0,
      "outputs": []
    },
    {
      "cell_type": "code",
      "metadata": {
        "id": "yB5IVccXPd46",
        "colab_type": "code",
        "outputId": "dd0dc3fb-9258-4bbc-9cfb-5fd16e63ed0e",
        "colab": {
          "base_uri": "https://localhost:8080/",
          "height": 33
        }
      },
      "source": [
        "X_train, X_val = generate_triplet(data, ap_pairs=23, an_pairs=23, test_size=0.2)\n",
        "print(X_train.shape, X_val.shape)"
      ],
      "execution_count": 7,
      "outputs": [
        {
          "output_type": "stream",
          "text": [
            "(9936, 3, 3, 96, 96) (2760, 3, 3, 96, 96)\n"
          ],
          "name": "stdout"
        }
      ]
    },
    {
      "cell_type": "markdown",
      "metadata": {
        "id": "Kggbnkf-Ue0k",
        "colab_type": "text"
      },
      "source": [
        "# Visualizing a 'Triplet'"
      ]
    },
    {
      "cell_type": "code",
      "metadata": {
        "id": "byEequ46bSN1",
        "colab_type": "code",
        "colab": {
          "base_uri": "https://localhost:8080/",
          "height": 136
        },
        "outputId": "d4fec262-ef23-4af4-d033-ce8dc60108d6"
      },
      "source": [
        "inx = 2345\n",
        "img = X_train[inx].copy()\n",
        "imgf = []\n",
        "for i in range(3):\n",
        "    img[i] = img[i][...,::-1]\n",
        "    imgf.append(np.transpose(img[i], (1,2,0)))\n",
        "\n",
        "fig, (ax1, ax2, ax3) = plt.subplots(1,3)\n",
        "ax1.matshow(imgf[0])\n",
        "\n",
        "ax1.get_yaxis().set_visible(False)\n",
        "ax1.get_xaxis().set_visible(False)\n",
        "ax2.get_yaxis().set_visible(False)\n",
        "ax2.get_xaxis().set_visible(False)\n",
        "\n",
        "ax2.matshow(imgf[1])\n",
        "ax3.matshow(imgf[2])\n",
        "plt.xticks([])\n",
        "plt.yticks([])\n",
        "plt.show()"
      ],
      "execution_count": 40,
      "outputs": [
        {
          "output_type": "display_data",
          "data": {
            "image/png": "[encoded data removed]",
            "text/plain": [
              "<Figure size 432x288 with 3 Axes>"
            ]
          },
          "metadata": {
            "tags": [],
            "needs_background": "light"
          }
        }
      ]
    },
    {
      "cell_type": "markdown",
      "metadata": {
        "id": "MYLmSJJa3Sn2",
        "colab_type": "text"
      },
      "source": [
        "# Base ConvNet\n",
        "The following function loads the base pretrained ConvNet, that is going to extract features from the input images.<br>\n",
        "We have 2 options:\n",
        "1. Pretrained FaceNet\n",
        "2. VGG16\n",
        "\n",
        "VGG16 works better as far as this ASL dataset is concerned."
      ]
    },
    {
      "cell_type": "code",
      "metadata": {
        "id": "ItUa_8eMQS28",
        "colab_type": "code",
        "colab": {}
      },
      "source": [
        "def create_base_network(input_shape, network = 'FaceNet', trainable = 12):\n",
        "    if network == 'FaceNet':        \n",
        "        model = faceRecoModel(input_shape=input_shape)\n",
        "        load_weights_from_FaceNet(model)\n",
        "\n",
        "        for layer in model.layers[:-trainable]:\n",
        "            layer.trainable = False\n",
        "    else:\n",
        "        from keras.applications import VGG16\n",
        "\n",
        "        base = VGG16(weights='imagenet', include_top=False, input_shape=input_shape)\n",
        "        base.trainable = False\n",
        "        model = Sequential()\n",
        "        model.add(base)\n",
        "        model.add(Flatten())\n",
        "        model.add(Dense(128, activation='relu'))\n",
        "        model.add(Dense(64))\n",
        "\n",
        "    return model"
      ],
      "execution_count": 0,
      "outputs": []
    },
    {
      "cell_type": "markdown",
      "metadata": {
        "id": "yJEcWYkV38jo",
        "colab_type": "text"
      },
      "source": [
        "# Triplet Loss\n",
        "For one-shot learning"
      ]
    },
    {
      "cell_type": "code",
      "metadata": {
        "id": "fFATIclTYMfh",
        "colab_type": "code",
        "colab": {}
      },
      "source": [
        "def triplet_loss(y_true, y_pred, alpha = 0.4):\n",
        "    \"\"\"\n",
        "    Implementation of the triplet loss function\n",
        "    Arguments:\n",
        "    y_true -- true labels, required when you define a loss in Keras, you don't need it in this function.\n",
        "    y_pred -- python list containing three objects:\n",
        "            anchor -- the encodings for the anchor data\n",
        "            positive -- the encodings for the positive data (similar to anchor)\n",
        "            negative -- the encodings for the negative data (different from anchor)\n",
        "    Returns:\n",
        "    loss -- real number, value of the loss\n",
        "    \"\"\"\n",
        "    print('y_pred.shape = ',y_pred)\n",
        "    \n",
        "    total_lenght = y_pred.shape.as_list()[-1]\n",
        "#     print('total_lenght=',  total_lenght)\n",
        "#     total_lenght =12\n",
        "    \n",
        "    anchor = y_pred[:,0:int(total_lenght*1/3)]\n",
        "    positive = y_pred[:,int(total_lenght*1/3):int(total_lenght*2/3)]\n",
        "    negative = y_pred[:,int(total_lenght*2/3):int(total_lenght*3/3)]\n",
        "\n",
        "    # distance between the anchor and the positive\n",
        "    pos_dist = K.sum(K.square(anchor-positive),axis=1)\n",
        "\n",
        "    # distance between the anchor and the negative\n",
        "    neg_dist = K.sum(K.square(anchor-negative),axis=1)\n",
        "\n",
        "    # compute loss\n",
        "    basic_loss = pos_dist - neg_dist + alpha\n",
        "    loss = K.maximum(basic_loss, 0.0)\n",
        " \n",
        "    return loss"
      ],
      "execution_count": 0,
      "outputs": []
    },
    {
      "cell_type": "code",
      "metadata": {
        "id": "8O9UCq6tWR97",
        "colab_type": "code",
        "colab": {}
      },
      "source": [
        "input_shape = (3,96,96)\n",
        "base_net = 'VGG16'"
      ],
      "execution_count": 0,
      "outputs": []
    },
    {
      "cell_type": "markdown",
      "metadata": {
        "id": "M0B7RmEOH6Rq",
        "colab_type": "text"
      },
      "source": [
        "# Defining the network"
      ]
    },
    {
      "cell_type": "code",
      "metadata": {
        "id": "eTEj0vXWWrKr",
        "colab_type": "code",
        "outputId": "5e28f098-65e9-41d1-e0c6-cd9da9720520",
        "colab": {
          "base_uri": "https://localhost:8080/",
          "height": 33
        }
      },
      "source": [
        "# Shared embedding layer for positive and negative items\n",
        "shared_dnn = create_base_network(input_shape, base_net)\n",
        "\n",
        "anchor_input = Input(input_shape, name='anchor_input')\n",
        "positive_input = Input(input_shape, name='positive_input')\n",
        "negative_input = Input(input_shape, name='negative_input')\n",
        "\n",
        "encoded_anchor = shared_dnn(anchor_input)\n",
        "encoded_positive = shared_dnn(positive_input)\n",
        "encoded_negative = shared_dnn(negative_input)\n",
        "\n",
        "checkpoint = ModelCheckpoint('final_weights_{}.h5'.format(base_net), verbose=1, monitor='val_loss',save_best_only=True, mode='auto')\n",
        "# model-{epoch:03d}-{acc:03f}-{val_acc:03f}\n",
        "merged_vector = concatenate([encoded_anchor, encoded_positive, encoded_negative], axis=-1, name='merged_layer')\n",
        "\n",
        "model = Model(inputs=[anchor_input,positive_input, negative_input], outputs=merged_vector)\n",
        "\n",
        "optimizer = Adam(lr=0.0005)\n",
        "model.compile(loss=triplet_loss, optimizer=optimizer, metrics=['accuracy'])"
      ],
      "execution_count": 13,
      "outputs": [
        {
          "output_type": "stream",
          "text": [
            "y_pred.shape =  Tensor(\"merged_layer/concat:0\", shape=(None, 192), dtype=float32)\n"
          ],
          "name": "stdout"
        }
      ]
    },
    {
      "cell_type": "code",
      "metadata": {
        "id": "rgV36PBWX1xf",
        "colab_type": "code",
        "outputId": "7984cb83-c848-4023-8076-a3c4a62ef4d7",
        "colab": {
          "base_uri": "https://localhost:8080/",
          "height": 401
        }
      },
      "source": [
        "print(model.count_params())\n",
        "model.summary()"
      ],
      "execution_count": 14,
      "outputs": [
        {
          "output_type": "stream",
          "text": [
            "15312896\n",
            "Model: \"model_1\"\n",
            "__________________________________________________________________________________________________\n",
            "Layer (type)                    Output Shape         Param #     Connected to                     \n",
            "==================================================================================================\n",
            "anchor_input (InputLayer)       (None, 3, 96, 96)    0                                            \n",
            "__________________________________________________________________________________________________\n",
            "positive_input (InputLayer)     (None, 3, 96, 96)    0                                            \n",
            "__________________________________________________________________________________________________\n",
            "negative_input (InputLayer)     (None, 3, 96, 96)    0                                            \n",
            "__________________________________________________________________________________________________\n",
            "sequential_1 (Sequential)       (None, 64)           15312896    anchor_input[0][0]               \n",
            "                                                                 positive_input[0][0]             \n",
            "                                                                 negative_input[0][0]             \n",
            "__________________________________________________________________________________________________\n",
            "merged_layer (Concatenate)      (None, 192)          0           sequential_1[1][0]               \n",
            "                                                                 sequential_1[2][0]               \n",
            "                                                                 sequential_1[3][0]               \n",
            "==================================================================================================\n",
            "Total params: 15,312,896\n",
            "Trainable params: 598,208\n",
            "Non-trainable params: 14,714,688\n",
            "__________________________________________________________________________________________________\n"
          ],
          "name": "stdout"
        }
      ]
    },
    {
      "cell_type": "markdown",
      "metadata": {
        "id": "5eBqXMOAIAZQ",
        "colab_type": "text"
      },
      "source": [
        "# Seperating\n",
        "Seperating the triplets so that we can feed it to the model"
      ]
    },
    {
      "cell_type": "code",
      "metadata": {
        "id": "Jn32yA62X4xW",
        "colab_type": "code",
        "outputId": "e38d1317-1396-4d84-c29c-45311ffd2f7f",
        "colab": {
          "base_uri": "https://localhost:8080/",
          "height": 33
        }
      },
      "source": [
        "np.random.shuffle(X_train)\n",
        "np.random.shuffle(X_val)\n",
        "\n",
        "Anchor = X_train[:,0,:]\n",
        "Positive = X_train[:,1,:]\n",
        "Negative = X_train[:,2,:]\n",
        "Anchor_test = X_val[:,0,:]\n",
        "Positive_test = X_val[:,1,:]\n",
        "Negative_test = X_val[:,2,:]\n",
        "\n",
        "print(Anchor.shape)\n",
        "Y_dummy = np.empty((Anchor.shape[0],300))\n",
        "Y_dummy2 = np.empty((Anchor_test.shape[0],1))"
      ],
      "execution_count": 15,
      "outputs": [
        {
          "output_type": "stream",
          "text": [
            "(9936, 3, 96, 96)\n"
          ],
          "name": "stdout"
        }
      ]
    },
    {
      "cell_type": "markdown",
      "metadata": {
        "id": "gI-4P_WvIJGp",
        "colab_type": "text"
      },
      "source": [
        "# Fitting model on the data\n",
        "\n",
        "1. Only training the extra layers of VGG16 (it works better than the pretrained FaceNet network)\n"
      ]
    },
    {
      "cell_type": "code",
      "metadata": {
        "id": "mBuW8gFsn58u",
        "colab_type": "code",
        "outputId": "252518d2-3f81-446b-c149-18f795250530",
        "colab": {
          "base_uri": "https://localhost:8080/",
          "height": 405
        }
      },
      "source": [
        "model.fit([Anchor,Positive,Negative],\n",
        "          y=Y_dummy,\n",
        "          validation_data=([Anchor_test,Positive_test,Negative_test],Y_dummy2),\n",
        "          batch_size=128,\n",
        "          epochs=5,\n",
        "          callbacks=[checkpoint])"
      ],
      "execution_count": 16,
      "outputs": [
        {
          "output_type": "stream",
          "text": [
            "Train on 9936 samples, validate on 2760 samples\n",
            "Epoch 1/5\n",
            "9936/9936 [==============================] - 47s 5ms/step - loss: 0.0249 - accuracy: 0.0000e+00 - val_loss: 0.0180 - val_accuracy: 0.0000e+00\n",
            "\n",
            "Epoch 00001: val_loss improved from inf to 0.01802, saving model to final_weights_VGG16.h5\n",
            "Epoch 2/5\n",
            "9936/9936 [==============================] - 44s 4ms/step - loss: 0.0023 - accuracy: 0.0000e+00 - val_loss: 0.0173 - val_accuracy: 0.0000e+00\n",
            "\n",
            "Epoch 00002: val_loss improved from 0.01802 to 0.01732, saving model to final_weights_VGG16.h5\n",
            "Epoch 3/5\n",
            "9936/9936 [==============================] - 44s 4ms/step - loss: 0.0021 - accuracy: 0.0000e+00 - val_loss: 0.0170 - val_accuracy: 0.0000e+00\n",
            "\n",
            "Epoch 00003: val_loss improved from 0.01732 to 0.01696, saving model to final_weights_VGG16.h5\n",
            "Epoch 4/5\n",
            "9936/9936 [==============================] - 44s 4ms/step - loss: 0.0025 - accuracy: 0.0000e+00 - val_loss: 0.0127 - val_accuracy: 0.0000e+00\n",
            "\n",
            "Epoch 00004: val_loss improved from 0.01696 to 0.01267, saving model to final_weights_VGG16.h5\n",
            "Epoch 5/5\n",
            "9936/9936 [==============================] - 44s 4ms/step - loss: 0.0031 - accuracy: 0.0000e+00 - val_loss: 0.0277 - val_accuracy: 0.0000e+00\n",
            "\n",
            "Epoch 00005: val_loss did not improve from 0.01267\n"
          ],
          "name": "stdout"
        },
        {
          "output_type": "execute_result",
          "data": {
            "text/plain": [
              "<keras.callbacks.callbacks.History at 0x7f973956a2e8>"
            ]
          },
          "metadata": {
            "tags": []
          },
          "execution_count": 16
        }
      ]
    },
    {
      "cell_type": "markdown",
      "metadata": {
        "id": "N2J8Oq8-SS0l",
        "colab_type": "text"
      },
      "source": [
        "2. Now fine-tuning the whole model after setting all layers trainable."
      ]
    },
    {
      "cell_type": "code",
      "metadata": {
        "id": "YLTEHeKOApQu",
        "colab_type": "code",
        "colab": {
          "base_uri": "https://localhost:8080/",
          "height": 401
        },
        "outputId": "7b804019-3697-48e8-c0de-958b92e1f8bb"
      },
      "source": [
        "for l in shared_dnn.layers:\n",
        "    l.trainable = True\n",
        "model = Model(inputs=[anchor_input,positive_input, negative_input], outputs=merged_vector)\n",
        "# model.trainable = True\n",
        "\n",
        "optimizer = Adam(lr=0.0001)\n",
        "model.compile(loss=triplet_loss, optimizer=optimizer, metrics=['accuracy'])\n",
        "model.summary()"
      ],
      "execution_count": 17,
      "outputs": [
        {
          "output_type": "stream",
          "text": [
            "y_pred.shape =  Tensor(\"merged_layer/concat:0\", shape=(None, 192), dtype=float32)\n",
            "Model: \"model_2\"\n",
            "__________________________________________________________________________________________________\n",
            "Layer (type)                    Output Shape         Param #     Connected to                     \n",
            "==================================================================================================\n",
            "anchor_input (InputLayer)       (None, 3, 96, 96)    0                                            \n",
            "__________________________________________________________________________________________________\n",
            "positive_input (InputLayer)     (None, 3, 96, 96)    0                                            \n",
            "__________________________________________________________________________________________________\n",
            "negative_input (InputLayer)     (None, 3, 96, 96)    0                                            \n",
            "__________________________________________________________________________________________________\n",
            "sequential_1 (Sequential)       (None, 64)           15312896    anchor_input[0][0]               \n",
            "                                                                 positive_input[0][0]             \n",
            "                                                                 negative_input[0][0]             \n",
            "__________________________________________________________________________________________________\n",
            "merged_layer (Concatenate)      (None, 192)          0           sequential_1[1][0]               \n",
            "                                                                 sequential_1[2][0]               \n",
            "                                                                 sequential_1[3][0]               \n",
            "==================================================================================================\n",
            "Total params: 15,312,896\n",
            "Trainable params: 15,312,896\n",
            "Non-trainable params: 0\n",
            "__________________________________________________________________________________________________\n"
          ],
          "name": "stdout"
        }
      ]
    },
    {
      "cell_type": "code",
      "metadata": {
        "id": "OXcvUGfYDn2a",
        "colab_type": "code",
        "colab": {
          "base_uri": "https://localhost:8080/",
          "height": 405
        },
        "outputId": "5c104a35-8657-4d7c-f3f1-2f1182f967d1"
      },
      "source": [
        "checkpoint2 = ModelCheckpoint('final_finetune_weights_{}.h5'.format(base_net), verbose=1, monitor='val_loss',save_best_only=True, mode='auto')\n",
        "model.fit([Anchor,Positive,Negative],\n",
        "          y=Y_dummy,\n",
        "          validation_data=([Anchor_test,Positive_test,Negative_test],Y_dummy2),\n",
        "          batch_size=128,\n",
        "          epochs=5,\n",
        "          callbacks=[checkpoint2])"
      ],
      "execution_count": 18,
      "outputs": [
        {
          "output_type": "stream",
          "text": [
            "Train on 9936 samples, validate on 2760 samples\n",
            "Epoch 1/5\n",
            "9936/9936 [==============================] - 106s 11ms/step - loss: 0.0218 - accuracy: 0.0000e+00 - val_loss: 0.0097 - val_accuracy: 0.0000e+00\n",
            "\n",
            "Epoch 00001: val_loss improved from inf to 0.00974, saving model to final_finetune_weights_VGG16.h5\n",
            "Epoch 2/5\n",
            "9936/9936 [==============================] - 103s 10ms/step - loss: 0.0057 - accuracy: 0.0000e+00 - val_loss: 0.0042 - val_accuracy: 0.0000e+00\n",
            "\n",
            "Epoch 00002: val_loss improved from 0.00974 to 0.00421, saving model to final_finetune_weights_VGG16.h5\n",
            "Epoch 3/5\n",
            "9936/9936 [==============================] - 103s 10ms/step - loss: 0.0052 - accuracy: 0.0000e+00 - val_loss: 0.0090 - val_accuracy: 0.0000e+00\n",
            "\n",
            "Epoch 00003: val_loss did not improve from 0.00421\n",
            "Epoch 4/5\n",
            "9936/9936 [==============================] - 104s 10ms/step - loss: 0.0020 - accuracy: 0.0000e+00 - val_loss: 0.0134 - val_accuracy: 0.0000e+00\n",
            "\n",
            "Epoch 00004: val_loss did not improve from 0.00421\n",
            "Epoch 5/5\n",
            "9936/9936 [==============================] - 104s 10ms/step - loss: 0.0064 - accuracy: 0.0000e+00 - val_loss: 0.0115 - val_accuracy: 0.0000e+00\n",
            "\n",
            "Epoch 00005: val_loss did not improve from 0.00421\n"
          ],
          "name": "stdout"
        },
        {
          "output_type": "execute_result",
          "data": {
            "text/plain": [
              "<keras.callbacks.callbacks.History at 0x7f96dc108518>"
            ]
          },
          "metadata": {
            "tags": []
          },
          "execution_count": 18
        }
      ]
    },
    {
      "cell_type": "markdown",
      "metadata": {
        "id": "TS4-sE2lSie8",
        "colab_type": "text"
      },
      "source": [
        "# Loading the best network weights"
      ]
    },
    {
      "cell_type": "code",
      "metadata": {
        "id": "Kg_6XfdjL2-U",
        "colab_type": "code",
        "colab": {}
      },
      "source": [
        "FRmodel = Model(inputs=anchor_input, outputs=encoded_anchor)\n",
        "\n",
        "FRmodel.load_weights('final_finetune_weights_{}.h5'.format(base_net))"
      ],
      "execution_count": 0,
      "outputs": []
    },
    {
      "cell_type": "markdown",
      "metadata": {
        "id": "PDMzwwsBSqvn",
        "colab_type": "text"
      },
      "source": [
        "# Defining test functions"
      ]
    },
    {
      "cell_type": "code",
      "metadata": {
        "id": "RcNP-kHgMpjb",
        "colab_type": "code",
        "colab": {}
      },
      "source": [
        "def who_is_it(image_path, database, model):\n",
        "    '''\n",
        "    Outputs the class closest to the image addressed by the input_path, by calculating the minimum of L2 norms\n",
        "    of the differences between encodings of this image with the each class representative images\n",
        "    '''\n",
        "    encoding = img_to_encoding(image_path, model)\n",
        "\n",
        "    min_dist = 100\n",
        "\n",
        "    for (name, db_enc) in database.items():\n",
        "        dist = np.linalg.norm(db_enc - encoding)\n",
        "        if dist < min_dist:\n",
        "            min_dist = dist\n",
        "            identity = name\n",
        "        \n",
        "    return min_dist, identity"
      ],
      "execution_count": 0,
      "outputs": []
    },
    {
      "cell_type": "code",
      "metadata": {
        "id": "Ljh5spJATeaF",
        "colab_type": "code",
        "colab": {}
      },
      "source": [
        "def test_accuracy(path, database, model):\n",
        "    '''\n",
        "    This function goes through all the images in the directory given by the path, and checks whether it is the \n",
        "    correct class as given by the subfolder of the directory or not.\n",
        "    '''\n",
        "    correct = 0\n",
        "    total = 0\n",
        "    for cls in os.listdir(path):\n",
        "        subpath = os.path.join(path, cls)\n",
        "        for image in os.listdir(subpath):\n",
        "            total += 1\n",
        "            image_path = os.path.join(subpath, image)\n",
        "            dist, iden = who_is_it(image_path, database, model)\n",
        "\n",
        "            if(iden == cls):\n",
        "                correct += 1\n",
        "\n",
        "    return (correct/total)*100, correct, total"
      ],
      "execution_count": 0,
      "outputs": []
    },
    {
      "cell_type": "markdown",
      "metadata": {
        "id": "pG-QS678UKSw",
        "colab_type": "text"
      },
      "source": [
        "# Test Accuracy"
      ]
    },
    {
      "cell_type": "code",
      "metadata": {
        "id": "RXbXKIBFL-u2",
        "colab_type": "code",
        "colab": {}
      },
      "source": [
        "## Storing the class representative image encodings in the database ##\n",
        "database = {}\n",
        "\n",
        "test_dir = \"/content/ASL_test\" \n",
        "for cls in os.listdir(test_dir):\n",
        "    image1 = os.listdir(os.path.join(test_dir, cls))[3]\n",
        "    path = os.path.join(test_dir, cls, image1)\n",
        "    database[cls] = img_to_encoding(path, FRmodel)"
      ],
      "execution_count": 0,
      "outputs": []
    },
    {
      "cell_type": "code",
      "metadata": {
        "id": "CObIjEEoTu1J",
        "colab_type": "code",
        "outputId": "d60b2035-6b20-49f2-8c56-5689722a4d16",
        "colab": {
          "base_uri": "https://localhost:8080/",
          "height": 33
        }
      },
      "source": [
        "print(test_accuracy('ASL_test', database, FRmodel))"
      ],
      "execution_count": 32,
      "outputs": [
        {
          "output_type": "stream",
          "text": [
            "(85.83333333333333, 206, 240)\n"
          ],
          "name": "stdout"
        }
      ]
    },
    {
      "cell_type": "markdown",
      "metadata": {
        "id": "t0m_NJYsSzUv",
        "colab_type": "text"
      },
      "source": [
        "# Downloading the best weights"
      ]
    },
    {
      "cell_type": "code",
      "metadata": {
        "id": "HSm_PEHxNR_r",
        "colab_type": "code",
        "colab": {
          "base_uri": "https://localhost:8080/",
          "height": 435
        },
        "outputId": "27fd237b-42b0-434b-d53f-38f288704887"
      },
      "source": [
        "from google.colab import files\n",
        "files.download('/content/final_finetune_weights_VGG16.h5')"
      ],
      "execution_count": 33,
      "outputs": [
        {
          "output_type": "stream",
          "text": [
            "----------------------------------------\n",
            "Exception happened during processing of request from ('::ffff:127.0.0.1', 57868, 0, 0)\n",
            "Traceback (most recent call last):\n",
            "  File \"/usr/lib/python3.6/socketserver.py\", line 320, in _handle_request_noblock\n",
            "    self.process_request(request, client_address)\n",
            "  File \"/usr/lib/python3.6/socketserver.py\", line 351, in process_request\n",
            "    self.finish_request(request, client_address)\n",
            "  File \"/usr/lib/python3.6/socketserver.py\", line 364, in finish_request\n",
            "    self.RequestHandlerClass(request, client_address, self)\n",
            "  File \"/usr/lib/python3.6/socketserver.py\", line 724, in __init__\n",
            "    self.handle()\n",
            "  File \"/usr/lib/python3.6/http/server.py\", line 418, in handle\n",
            "    self.handle_one_request()\n",
            "  File \"/usr/lib/python3.6/http/server.py\", line 406, in handle_one_request\n",
            "    method()\n",
            "  File \"/usr/lib/python3.6/http/server.py\", line 639, in do_GET\n",
            "    self.copyfile(f, self.wfile)\n",
            "  File \"/usr/lib/python3.6/http/server.py\", line 800, in copyfile\n",
            "    shutil.copyfileobj(source, outputfile)\n",
            "  File \"/usr/lib/python3.6/shutil.py\", line 82, in copyfileobj\n",
            "    fdst.write(buf)\n",
            "  File \"/usr/lib/python3.6/socketserver.py\", line 803, in write\n",
            "    self._sock.sendall(b)\n",
            "ConnectionResetError: [Errno 104] Connection reset by peer\n",
            "----------------------------------------\n"
          ],
          "name": "stderr"
        }
      ]
    },
    {
      "cell_type": "code",
      "metadata": {
        "id": "2vU4k-teSBQN",
        "colab_type": "code",
        "colab": {}
      },
      "source": [
        ""
      ],
      "execution_count": 0,
      "outputs": []
    }
  ]
}