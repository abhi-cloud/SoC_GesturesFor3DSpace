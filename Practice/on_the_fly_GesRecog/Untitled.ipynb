{
 "cells": [
  {
   "cell_type": "code",
   "execution_count": 1,
   "metadata": {},
   "outputs": [],
   "source": [
    "%matplotlib inline"
   ]
  },
  {
   "cell_type": "code",
   "execution_count": 2,
   "metadata": {},
   "outputs": [],
   "source": [
    "from __future__ import print_function, division\n",
    "\n",
    "import torch\n",
    "import torch.nn as nn\n",
    "import torch.optim as optim\n",
    "from torch.optim import lr_scheduler\n",
    "import numpy as np\n",
    "import torchvision\n",
    "from torchvision import datasets, models, transforms\n",
    "import matplotlib.pyplot as plt\n",
    "import time\n",
    "import os\n",
    "import copy\n",
    "\n",
    "plt.ion()"
   ]
  },
  {
   "cell_type": "code",
   "execution_count": 3,
   "metadata": {},
   "outputs": [],
   "source": [
    "###\n",
    "\n",
    "# import shutil\n",
    "\n",
    "data_dir = './trainset/'\n",
    "val_dir = './valset'\n",
    "    \n",
    "# for fname in os.listdir(data_dir):\n",
    "#     os.makedirs(os.path.join(val_dir, fname))\n",
    "#     i = 0\n",
    "#     for img in os.listdir(os.path.join(data_dir, fname)):\n",
    "#         if i%5 == 0:\n",
    "#             source = os.path.join(data_dir, fname, img)\n",
    "#             dest = os.path.join(val_dir, fname, img)\n",
    "#             shutil.move(source, dest)\n",
    "#         i += 1"
   ]
  },
  {
   "cell_type": "code",
   "execution_count": 4,
   "metadata": {},
   "outputs": [],
   "source": [
    "data_transforms = {\n",
    "    'train': transforms.Compose([\n",
    "        transforms.RandomResizedCrop(200),\n",
    "        transforms.Grayscale(num_output_channels=1),\n",
    "        transforms.RandomHorizontalFlip(),\n",
    "        transforms.RandomAffine(20),\n",
    "        transforms.ToTensor(),\n",
    "        transforms.Normalize([0.5], [0.25])\n",
    "    ]),\n",
    "    'val': transforms.Compose([\n",
    "        transforms.Grayscale(num_output_channels=1),\n",
    "        transforms.Resize(200),\n",
    "        transforms.ToTensor(),\n",
    "        transforms.Normalize([0.5], [0.25])\n",
    "    ])\n",
    "}"
   ]
  },
  {
   "cell_type": "code",
   "execution_count": 5,
   "metadata": {},
   "outputs": [],
   "source": [
    "image_datasets = {'train': datasets.ImageFolder(data_dir, data_transforms['train']),\n",
    "                  'val': datasets.ImageFolder(val_dir, data_transforms['val'])\n",
    "                 }\n",
    "data_loaders = {x: torch.utils.data.DataLoader(image_datasets[x],\n",
    "                batch_size=4, shuffle=True, num_workers=4)\n",
    "                for x in ['train', 'val']}\n",
    "dataset_sizes = {x: len(image_datasets[x]) for x in ['train', 'val']}\n",
    "classes = image_datasets['train'].classes\n",
    "\n",
    "device = torch.device('cuda:0' if torch.cuda.is_available() else 'cpu')"
   ]
  },
  {
   "cell_type": "code",
   "execution_count": 6,
   "metadata": {},
   "outputs": [
    {
     "data": {
      "text/plain": [
       "Dataset ImageFolder\n",
       "    Number of datapoints: 1200\n",
       "    Root location: ./trainset/\n",
       "    StandardTransform\n",
       "Transform: Compose(\n",
       "               RandomResizedCrop(size=(200, 200), scale=(0.08, 1.0), ratio=(0.75, 1.3333), interpolation=PIL.Image.BILINEAR)\n",
       "               Grayscale(num_output_channels=1)\n",
       "               RandomHorizontalFlip(p=0.5)\n",
       "               RandomAffine(degrees=(-20, 20))\n",
       "               ToTensor()\n",
       "               Normalize(mean=[0.5], std=[0.25])\n",
       "           )"
      ]
     },
     "execution_count": 6,
     "metadata": {},
     "output_type": "execute_result"
    }
   ],
   "source": [
    "image_datasets['train']"
   ]
  },
  {
   "cell_type": "code",
   "execution_count": 7,
   "metadata": {},
   "outputs": [
    {
     "data": {
      "text/plain": [
       "['nothing', 'ok', 'palm', 'peace', 'punch']"
      ]
     },
     "execution_count": 7,
     "metadata": {},
     "output_type": "execute_result"
    }
   ],
   "source": [
    "classes"
   ]
  },
  {
   "cell_type": "code",
   "execution_count": 14,
   "metadata": {},
   "outputs": [],
   "source": [
    "import torch.nn as nn\n",
    "import torch.nn.functional as F\n",
    "\n",
    "class Net(nn.Module):\n",
    "    def __init__(self):\n",
    "        super(Net, self).__init__()\n",
    "        self.conv1 = nn.Conv2d(1, 32, 3)\n",
    "        self.pool = nn.MaxPool2d(2, 2)\n",
    "        self.conv2 = nn.Conv2d(32, 64, 3)\n",
    "        # self.conv3 = nn.Conv2d(32, 128, 3)\n",
    "        # self.conv4 = nn.Conv2d(128, 3, 3)\n",
    "        self.fc1 = nn.Linear(64*98*98, 128)\n",
    "        # self.fc2 = nn.Linear(128, 64)\n",
    "        self.fc3 = nn.Linear(128, 5)\n",
    "    \n",
    "    def forward(self, x):\n",
    "        x = self.conv1(x)\n",
    "        x = self.pool(F.relu(self.conv2(x)))\n",
    "        # x = self.pool(F.relu(self.conv2(x)))\n",
    "        # x = self.pool(F.relu(self.conv3(x)))\n",
    "        # x = self.pool(F.relu(self.conv4(x)))\n",
    "        x = x.view(-1, 64*98*98)\n",
    "        x = F.relu(self.fc1(x))\n",
    "        # x = F.relu(self.fc2(x))\n",
    "        x = F.softmax(self.fc3(x), dim=1)\n",
    "        \n",
    "        return x"
   ]
  },
  {
   "cell_type": "code",
   "execution_count": 15,
   "metadata": {},
   "outputs": [],
   "source": [
    "def train_model(model, criterion, optimizer, scheduler, num_epochs=25):\n",
    "    since = time.time()\n",
    "    best_model_wts = copy.deepcopy(model.state_dict())\n",
    "    best_acc = 0\n",
    "    val_losses = []\n",
    "    val_acc = []\n",
    "    losses = []\n",
    "    acc = []\n",
    "    for epoch in range(num_epochs):\n",
    "        print('Epoch {}/{}'.format(epoch, num_epochs-1))\n",
    "        print('-' * 10)\n",
    "        \n",
    "        for phase in ['train', 'val']:\n",
    "            if phase == 'train':\n",
    "                scheduler.step()\n",
    "                model.train()\n",
    "            else:\n",
    "                model.eval()\n",
    "                \n",
    "            running_loss = 0.0\n",
    "            running_corrects = 0\n",
    "            \n",
    "            for inputs, labels in data_loaders[phase]:\n",
    "                inputs = inputs.to(device)\n",
    "                labels = labels.to(device)\n",
    "                \n",
    "                optimizer.zero_grad()\n",
    "                \n",
    "                with torch.set_grad_enabled(phase == 'train'):\n",
    "                    outputs = model(inputs)\n",
    "                    _, preds = torch.max(outputs, 1)\n",
    "                    # print(inputs.size(), outputs.size(), labels.size())\n",
    "                    loss = criterion(outputs, labels)\n",
    "                    \n",
    "                    if phase == 'train':\n",
    "                        loss.backward()\n",
    "                        optimizer.step()\n",
    "                    \n",
    "                running_loss += loss.item() * inputs.size(0)\n",
    "                running_corrects += torch.sum(preds == labels)\n",
    "            if phase == 'train':\n",
    "                scheduler.step()\n",
    "                \n",
    "            epoch_loss = running_loss / dataset_sizes[phase]\n",
    "            epoch_acc = running_corrects.double() / dataset_sizes[phase]\n",
    "            \n",
    "            print('{} Loss: {:.4f} Acc: {:.4f}'.format(\n",
    "                phase, epoch_loss, epoch_acc))\n",
    "            \n",
    "            if phase == 'train':\n",
    "                losses.append(epoch_loss)\n",
    "                acc.append(epoch_acc)\n",
    "            else:\n",
    "                val_losses.append(epoch_loss)\n",
    "                val_acc.append(epoch_acc)\n",
    "            \n",
    "            if phase == 'val' and epoch_acc > best_acc:\n",
    "                best_acc = epoch_acc\n",
    "                best_model_wts = copy.deepcopy(model.state_dict())\n",
    "        print()\n",
    "        \n",
    "    time_elapsed = time.time() - since\n",
    "    print('Training complete in {:.0f}m {:.0f}s'.format(\n",
    "            time_elapsed // 60, time_elapsed % 60))\n",
    "    print('Best val Acc: {:4f}'.format(best_acc))\n",
    "    \n",
    "    data = {}\n",
    "    data['epochs'] = range(num_epochs)\n",
    "    data['val_loss'] = val_losses\n",
    "    data['loss'] = losses\n",
    "    data['val_acc'] = val_acc\n",
    "    data['acc'] = acc\n",
    "    \n",
    "    model.load_state_dict(best_model_wts)\n",
    "    return model, data"
   ]
  },
  {
   "cell_type": "code",
   "execution_count": 16,
   "metadata": {},
   "outputs": [
    {
     "name": "stdout",
     "output_type": "stream",
     "text": [
      "Net(\n",
      "  (conv1): Conv2d(1, 32, kernel_size=(3, 3), stride=(1, 1))\n",
      "  (pool): MaxPool2d(kernel_size=2, stride=2, padding=0, dilation=1, ceil_mode=False)\n",
      "  (conv2): Conv2d(32, 64, kernel_size=(3, 3), stride=(1, 1))\n",
      "  (fc1): Linear(in_features=614656, out_features=128, bias=True)\n",
      "  (fc3): Linear(in_features=128, out_features=5, bias=True)\n",
      ")\n"
     ]
    }
   ],
   "source": [
    "net = Net()\n",
    "net.to(device)\n",
    "print(net)"
   ]
  },
  {
   "cell_type": "code",
   "execution_count": 17,
   "metadata": {
    "scrolled": true
   },
   "outputs": [
    {
     "data": {
      "text/plain": [
       "torch.Size([32, 1, 3, 3])"
      ]
     },
     "execution_count": 17,
     "metadata": {},
     "output_type": "execute_result"
    }
   ],
   "source": [
    "list(net.parameters())[0].size()"
   ]
  },
  {
   "cell_type": "code",
   "execution_count": 18,
   "metadata": {},
   "outputs": [],
   "source": [
    "import torch.optim as optim\n",
    "\n",
    "criterion = nn.CrossEntropyLoss()\n",
    "optimizer = optim.SGD(net.parameters(), lr=0.001, momentum=0.9)\n",
    "scheduler = lr_scheduler.StepLR(optimizer, step_size=7, gamma=0.1)"
   ]
  },
  {
   "cell_type": "code",
   "execution_count": 19,
   "metadata": {},
   "outputs": [
    {
     "name": "stdout",
     "output_type": "stream",
     "text": [
      "Epoch 0/24\n",
      "----------\n",
      "train Loss: 1.6966 Acc: 0.1967\n",
      "val Loss: 1.6137 Acc: 0.2000\n",
      "\n",
      "Epoch 1/24\n",
      "----------\n",
      "train Loss: 1.5655 Acc: 0.3000\n",
      "val Loss: 1.5614 Acc: 0.3000\n",
      "\n",
      "Epoch 2/24\n",
      "----------\n",
      "train Loss: 1.5368 Acc: 0.3075\n",
      "val Loss: 1.6168 Acc: 0.2000\n",
      "\n",
      "Epoch 3/24\n",
      "----------\n",
      "train Loss: 1.5964 Acc: 0.2733\n",
      "val Loss: 1.5476 Acc: 0.2767\n",
      "\n",
      "Epoch 4/24\n",
      "----------\n",
      "train Loss: 1.4877 Acc: 0.4283\n",
      "val Loss: 1.4300 Acc: 0.5833\n",
      "\n",
      "Epoch 5/24\n",
      "----------\n",
      "train Loss: 1.4620 Acc: 0.4483\n",
      "val Loss: 1.4093 Acc: 0.5267\n",
      "\n",
      "Epoch 6/24\n",
      "----------\n",
      "train Loss: 1.4433 Acc: 0.4808\n",
      "val Loss: 1.3958 Acc: 0.5167\n",
      "\n",
      "Epoch 7/24\n",
      "----------\n",
      "train Loss: 1.4290 Acc: 0.4817\n",
      "val Loss: 1.3708 Acc: 0.5667\n",
      "\n",
      "Epoch 8/24\n",
      "----------\n",
      "train Loss: 1.4121 Acc: 0.5083\n",
      "val Loss: 1.3586 Acc: 0.6167\n",
      "\n",
      "Epoch 9/24\n",
      "----------\n",
      "train Loss: 1.4102 Acc: 0.5150\n",
      "val Loss: 1.3525 Acc: 0.6500\n",
      "\n",
      "Epoch 10/24\n",
      "----------\n",
      "train Loss: 1.4218 Acc: 0.5058\n",
      "val Loss: 1.3538 Acc: 0.6433\n",
      "\n",
      "Epoch 11/24\n",
      "----------\n",
      "train Loss: 1.4208 Acc: 0.4950\n",
      "val Loss: 1.3546 Acc: 0.6300\n",
      "\n",
      "Epoch 12/24\n",
      "----------\n",
      "train Loss: 1.4213 Acc: 0.4983\n",
      "val Loss: 1.3553 Acc: 0.6100\n",
      "\n",
      "Epoch 13/24\n",
      "----------\n",
      "train Loss: 1.4161 Acc: 0.5125\n",
      "val Loss: 1.3556 Acc: 0.6067\n",
      "\n",
      "Epoch 14/24\n",
      "----------\n",
      "train Loss: 1.4121 Acc: 0.5242\n",
      "val Loss: 1.3555 Acc: 0.6067\n",
      "\n",
      "Epoch 15/24\n",
      "----------\n",
      "train Loss: 1.4156 Acc: 0.5133\n",
      "val Loss: 1.3555 Acc: 0.6067\n",
      "\n",
      "Epoch 16/24\n",
      "----------\n",
      "train Loss: 1.4066 Acc: 0.5292\n",
      "val Loss: 1.3555 Acc: 0.6067\n",
      "\n",
      "Epoch 17/24\n",
      "----------\n",
      "train Loss: 1.4074 Acc: 0.5167\n",
      "val Loss: 1.3555 Acc: 0.6067\n",
      "\n",
      "Epoch 18/24\n",
      "----------\n",
      "train Loss: 1.4116 Acc: 0.5192\n",
      "val Loss: 1.3555 Acc: 0.6067\n",
      "\n",
      "Epoch 19/24\n",
      "----------\n",
      "train Loss: 1.4089 Acc: 0.5300\n",
      "val Loss: 1.3555 Acc: 0.6067\n",
      "\n",
      "Epoch 20/24\n",
      "----------\n",
      "train Loss: 1.4135 Acc: 0.5175\n",
      "val Loss: 1.3555 Acc: 0.6067\n",
      "\n",
      "Epoch 21/24\n",
      "----------\n",
      "train Loss: 1.4073 Acc: 0.5192\n",
      "val Loss: 1.3555 Acc: 0.6067\n",
      "\n",
      "Epoch 22/24\n",
      "----------\n",
      "train Loss: 1.4205 Acc: 0.5075\n",
      "val Loss: 1.3555 Acc: 0.6067\n",
      "\n",
      "Epoch 23/24\n",
      "----------\n",
      "train Loss: 1.4059 Acc: 0.5175\n",
      "val Loss: 1.3555 Acc: 0.6067\n",
      "\n",
      "Epoch 24/24\n",
      "----------\n",
      "train Loss: 1.4158 Acc: 0.5142\n",
      "val Loss: 1.3555 Acc: 0.6067\n",
      "\n",
      "Training complete in 8m 31s\n",
      "Best val Acc: 0.650000\n"
     ]
    }
   ],
   "source": [
    "best_model, data = train_model(net, criterion, optimizer, scheduler, \n",
    "                         num_epochs=25)"
   ]
  },
  {
   "cell_type": "code",
   "execution_count": 71,
   "metadata": {},
   "outputs": [
    {
     "data": {
      "image/png": "[encoded data removed]",
      "text/plain": [
       "<Figure size 504x360 with 1 Axes>"
      ]
     },
     "metadata": {
      "needs_background": "light"
     },
     "output_type": "display_data"
    },
    {
     "data": {
      "image/png": "[encoded data removed]",
      "text/plain": [
       "<Figure size 504x360 with 1 Axes>"
      ]
     },
     "metadata": {
      "needs_background": "light"
     },
     "output_type": "display_data"
    }
   ],
   "source": [
    "# model, data = best_model\n",
    "# data['epochs'] = range(25)\n",
    "\n",
    "plt.figure(1,figsize=(7,5))\n",
    "plt.plot(data['epochs'], data['val_acc'], 'b--', label='val_acc')\n",
    "plt.plot(data['epochs'], data['acc'], 'g-', label='acc')\n",
    "plt.grid(True)\n",
    "plt.legend()\n",
    "\n",
    "plt.figure(2,figsize=(7,5))\n",
    "plt.plot(data['epochs'], data['val_loss'], 'b--', label='val_loss')\n",
    "plt.plot(data['epochs'], data['loss'], 'g-', label='loss')\n",
    "plt.grid(True)\n",
    "plt.legend()\n",
    "\n",
    "plt.show()"
   ]
  },
  {
   "cell_type": "code",
   "execution_count": 72,
   "metadata": {},
   "outputs": [],
   "source": [
    "torch.save(best_model.state_dict(), 'optimal_params.pt', override=True)"
   ]
  },
  {
   "cell_type": "code",
   "execution_count": 63,
   "metadata": {},
   "outputs": [],
   "source": [
    "import json\n",
    "import cv2 as cv\n",
    "\n",
    "jsonarray = {}\n",
    "\n",
    "def update(plot):\n",
    "    global jsonarray\n",
    "    h, y, w = 450, 30, 45\n",
    "    font = cv.FONT_HERSHEY_COMPLEX\n",
    "    \n",
    "    for items in jsonarray:\n",
    "        mul = (jsonarray[items])/100\n",
    "        cv.line(plot, (0,y), (int(h*mul), y), (255,0,0), w)\n",
    "        cv.putText(plot, items, (0,y+5), font, 0.7, (0,255,0), 2,1)\n",
    "        y += w+30\n",
    "        \n",
    "    return plot"
   ]
  },
  {
   "cell_type": "code",
   "execution_count": 64,
   "metadata": {},
   "outputs": [],
   "source": [
    "import numpy as np\n",
    "\n",
    "device = torch.device('cuda:0' if torch.cuda.is_available() else 'cpu')\n",
    "\n",
    "def loadCNN():\n",
    "    model = Net()\n",
    "    model.load_state_dict(torch.load('optimal_params.pt'))\n",
    "    return model\n",
    "\n",
    "def guessGesture(model, img):\n",
    "    global jsonarray, classes\n",
    "    \n",
    "    image = np.array(img)\n",
    "    image = torch.from_numpy(image).to(device)\n",
    "    rimage = torch.nn.init.normal_(image, mean=0.5, std=0.25)\n",
    "    rimage = torch.reshape(rimage, (1, 1, 200, -1))\n",
    "    \n",
    "    model.to(device)\n",
    "    model.eval()\n",
    "    \n",
    "    preds = model(rimage)[0]\n",
    "    \n",
    "    d = {}\n",
    "    i = 0 \n",
    "    for items in classes:\n",
    "        d[items] = preds[i]*100\n",
    "        i += 1\n",
    "        \n",
    "    _, pred = torch.max(preds, 1)\n",
    "    \n",
    "    if d[pred] > 60.0:\n",
    "        jsonarray = d\n",
    "        \n",
    "        return classes.index(pred)\n",
    "    else:\n",
    "        return 0\n",
    "    \n",
    "    "
   ]
  },
  {
   "cell_type": "code",
   "execution_count": 91,
   "metadata": {},
   "outputs": [
    {
     "name": "stdout",
     "output_type": "stream",
     "text": [
      "(200, 200)\n",
      "torch.float64\n"
     ]
    },
    {
     "data": {
      "text/plain": [
       "<matplotlib.image.AxesImage at 0x7fd2b1297460>"
      ]
     },
     "execution_count": 91,
     "metadata": {},
     "output_type": "execute_result"
    },
    {
     "data": {
      "image/png": "[encoded data removed]",
      "text/plain": [
       "<Figure size 432x288 with 1 Axes>"
      ]
     },
     "metadata": {
      "needs_background": "light"
     },
     "output_type": "display_data"
    }
   ],
   "source": [
    "import cv2 as cv\n",
    "\n",
    "img = cv.imread('./trainset/punch/punch100.jpg', 0)\n",
    "print(img.shape)\n",
    "img = img - img.mean()\n",
    "img /= img.std()\n",
    "\n",
    "img = (img + 0.5)*0.25\n",
    "\n",
    "image = img.reshape(1, 1, 200, 200)\n",
    "rimage = torch.from_numpy(image)\n",
    "print(rimage.dtype)\n",
    "plt.imshow(image[0, 0, :, :], cmap='gray')"
   ]
  },
  {
   "cell_type": "code",
   "execution_count": 103,
   "metadata": {},
   "outputs": [
    {
     "data": {
      "text/plain": [
       "tensor([[1.3623e-04, 2.6795e-03, 3.3458e-06, 6.9239e-01, 3.0479e-01]],\n",
       "       device='cuda:0', grad_fn=<SoftmaxBackward>)"
      ]
     },
     "execution_count": 103,
     "metadata": {},
     "output_type": "execute_result"
    }
   ],
   "source": [
    "from PIL import Image\n",
    "img = cv.imread('./trainset/punch/punch100.jpg', 0)\n",
    "\n",
    "tfms = transforms.Compose([\n",
    "        transforms.Grayscale(num_output_channels=1),\n",
    "        transforms.ToTensor(),\n",
    "        transforms.Normalize([0.5], [0.25])\n",
    "    ])\n",
    "\n",
    "rimage = tfms(Image.fromarray(img)).to(device)\n",
    "rimage = torch.reshape(rimage, (1, 1, 200, 200))\n",
    "best_model.eval()\n",
    "preds = best_model(rimage)\n",
    "preds"
   ]
  },
  {
   "cell_type": "code",
   "execution_count": null,
   "metadata": {},
   "outputs": [],
   "source": []
  }
 ],
 "metadata": {
  "kernelspec": {
   "display_name": "Python 3",
   "language": "python",
   "name": "python3"
  },
  "language_info": {
   "codemirror_mode": {
    "name": "ipython",
    "version": 3
   },
   "file_extension": ".py",
   "mimetype": "text/x-python",
   "name": "python",
   "nbconvert_exporter": "python",
   "pygments_lexer": "ipython3",
   "version": "3.8.2"
  }
 },
 "nbformat": 4,
 "nbformat_minor": 4
}
