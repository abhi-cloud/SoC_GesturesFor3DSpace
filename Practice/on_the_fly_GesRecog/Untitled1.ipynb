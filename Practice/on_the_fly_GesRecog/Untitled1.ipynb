{
 "cells": [
  {
   "cell_type": "code",
   "execution_count": 9,
   "metadata": {},
   "outputs": [
    {
     "name": "stdout",
     "output_type": "stream",
     "text": [
      "tensor([[2.3580e-04, 2.4624e-01],\n",
      "        [3.5883e-01, 8.1670e-01]])\n",
      "tensor([[0.1205, 0.2418],\n",
      "        [0.6811, 0.1740]])\n",
      "tensor([[2.8408e-05, 5.9552e-02],\n",
      "        [2.4438e-01, 1.4212e-01]])\n"
     ]
    }
   ],
   "source": [
    "from __future__ import print_function\n",
    "import torch\n",
    "size = int(2)\n",
    "x = torch.rand(size, size)\n",
    "y = torch.rand(size, size)\n",
    "z = x*y\n",
    "print(x)\n",
    "print(y)\n",
    "print(z)"
   ]
  },
  {
   "cell_type": "code",
   "execution_count": 10,
   "metadata": {},
   "outputs": [
    {
     "name": "stdout",
     "output_type": "stream",
     "text": [
      "tensor([[1.0002, 1.2462],\n",
      "        [1.3588, 1.8167]], device='cuda:0')\n",
      "tensor([[1.0002, 1.2462],\n",
      "        [1.3588, 1.8167]], dtype=torch.float64)\n"
     ]
    }
   ],
   "source": [
    "if torch.cuda.is_available():\n",
    "    device = torch.device(\"cuda\")          # a CUDA device object\n",
    "    y = torch.ones_like(x, device=device)  # directly create a tensor on GPU\n",
    "    x = x.to(device)                       # or just use strings ``.to(\"cuda\")``\n",
    "    z = x + y\n",
    "    print(z)\n",
    "    print(z.to(\"cpu\", torch.double))"
   ]
  },
  {
   "cell_type": "code",
   "execution_count": 11,
   "metadata": {},
   "outputs": [
    {
     "name": "stdout",
     "output_type": "stream",
     "text": [
      "Tue May 12 17:57:19 2020       \r\n",
      "+-----------------------------------------------------------------------------+\r\n",
      "| NVIDIA-SMI 440.64.00    Driver Version: 440.64.00    CUDA Version: 10.2     |\r\n",
      "|-------------------------------+----------------------+----------------------+\r\n",
      "| GPU  Name        Persistence-M| Bus-Id        Disp.A | Volatile Uncorr. ECC |\r\n",
      "| Fan  Temp  Perf  Pwr:Usage/Cap|         Memory-Usage | GPU-Util  Compute M. |\r\n",
      "|===============================+======================+======================|\r\n",
      "|   0  GeForce GTX 1650    On   | 00000000:01:00.0 Off |                  N/A |\r\n",
      "| N/A   45C    P0    13W /  N/A |   1249MiB /  3911MiB |      2%      Default |\r\n",
      "+-------------------------------+----------------------+----------------------+\r\n",
      "                                                                               \r\n",
      "+-----------------------------------------------------------------------------+\r\n",
      "| Processes:                                                       GPU Memory |\r\n",
      "|  GPU       PID   Type   Process name                             Usage      |\r\n",
      "|=============================================================================|\r\n",
      "|    0      1459      G   /usr/lib/xorg/Xorg                            28MiB |\r\n",
      "|    0      1813      G   /usr/bin/gnome-shell                          47MiB |\r\n",
      "|    0      2136      G   /usr/lib/xorg/Xorg                           209MiB |\r\n",
      "|    0      2322      G   /usr/bin/gnome-shell                         185MiB |\r\n",
      "|    0      4009      G   ...AAAAAAAAAAAACAAAAAAAAAA= --shared-files   102MiB |\r\n",
      "|    0      7093      G   ...quest-channel-token=8502049802883513310    25MiB |\r\n",
      "|    0     10988      C   /home/ag222145/anaconda3/bin/python           55MiB |\r\n",
      "|    0     15058      C   ...22145/anaconda3/envs/lit_sup/bin/python   579MiB |\r\n",
      "+-----------------------------------------------------------------------------+\r\n"
     ]
    }
   ],
   "source": [
    "!nvidia-smi"
   ]
  },
  {
   "cell_type": "code",
   "execution_count": 12,
   "metadata": {},
   "outputs": [
    {
     "name": "stdout",
     "output_type": "stream",
     "text": [
      "Tue May 12 17:57:57 2020       \r\n",
      "+-----------------------------------------------------------------------------+\r\n",
      "| NVIDIA-SMI 440.64.00    Driver Version: 440.64.00    CUDA Version: 10.2     |\r\n",
      "|-------------------------------+----------------------+----------------------+\r\n",
      "| GPU  Name        Persistence-M| Bus-Id        Disp.A | Volatile Uncorr. ECC |\r\n",
      "| Fan  Temp  Perf  Pwr:Usage/Cap|         Memory-Usage | GPU-Util  Compute M. |\r\n",
      "|===============================+======================+======================|\r\n",
      "|   0  GeForce GTX 1650    On   | 00000000:01:00.0 Off |                  N/A |\r\n",
      "| N/A   44C    P8     3W /  N/A |   1249MiB /  3911MiB |      7%      Default |\r\n",
      "+-------------------------------+----------------------+----------------------+\r\n",
      "                                                                               \r\n",
      "+-----------------------------------------------------------------------------+\r\n",
      "| Processes:                                                       GPU Memory |\r\n",
      "|  GPU       PID   Type   Process name                             Usage      |\r\n",
      "|=============================================================================|\r\n",
      "|    0      1459      G   /usr/lib/xorg/Xorg                            28MiB |\r\n",
      "|    0      1813      G   /usr/bin/gnome-shell                          47MiB |\r\n",
      "|    0      2136      G   /usr/lib/xorg/Xorg                           209MiB |\r\n",
      "|    0      2322      G   /usr/bin/gnome-shell                         185MiB |\r\n",
      "|    0      4009      G   ...AAAAAAAAAAAACAAAAAAAAAA= --shared-files   102MiB |\r\n",
      "|    0      7093      G   ...quest-channel-token=8502049802883513310    25MiB |\r\n",
      "|    0     10988      C   /home/ag222145/anaconda3/bin/python           55MiB |\r\n",
      "|    0     15058      C   ...22145/anaconda3/envs/lit_sup/bin/python   579MiB |\r\n",
      "+-----------------------------------------------------------------------------+\r\n"
     ]
    }
   ],
   "source": [
    "!nvidia-smi"
   ]
  },
  {
   "cell_type": "code",
   "execution_count": null,
   "metadata": {},
   "outputs": [],
   "source": []
  }
 ],
 "metadata": {
  "kernelspec": {
   "display_name": "Python 3",
   "language": "python",
   "name": "python3"
  },
  "language_info": {
   "codemirror_mode": {
    "name": "ipython",
    "version": 3
   },
   "file_extension": ".py",
   "mimetype": "text/x-python",
   "name": "python",
   "nbconvert_exporter": "python",
   "pygments_lexer": "ipython3",
   "version": "3.8.2"
  }
 },
 "nbformat": 4,
 "nbformat_minor": 4
}
